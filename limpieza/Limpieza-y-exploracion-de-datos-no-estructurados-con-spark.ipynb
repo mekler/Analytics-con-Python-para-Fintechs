{
 "cells": [
  {
   "cell_type": "markdown",
   "metadata": {},
   "source": [
    "# Índice\n",
    "* [Scraping](../scraper/Web-scraping.ipynb)\n",
    "* [Limpieza y Feature engineering](#Limpieza-y-Feature-engineering)\n",
    "* [Modelado](../modelado/Modelado-y-visualizaciones.ipynb)"
   ]
  },
  {
   "cell_type": "markdown",
   "metadata": {},
   "source": [
    "# Limpieza y Feature engineering"
   ]
  },
  {
   "cell_type": "markdown",
   "metadata": {},
   "source": [
    "## Objetivo\n",
    "**Limpiar, ordenar y/o seleccionar datos no estructurados a.k.a. JSONs**\n",
    "\n",
    "- Tenemos dos días de datos de Twitter. \n",
    "- Supongamos que sólo queremos algunos campos."
   ]
  },
  {
   "cell_type": "code",
   "execution_count": null,
   "metadata": {
    "collapsed": true
   },
   "outputs": [],
   "source": [
    "from pyspark.sql import SparkSession\n",
    "spark = SparkSession\\\n",
    "        .builder\\\n",
    "        .appName(\"Fintech\")\\\n",
    "        .getOrCreate()"
   ]
  },
  {
   "cell_type": "code",
   "execution_count": null,
   "metadata": {
    "collapsed": true
   },
   "outputs": [],
   "source": [
    "df = spark.read.json('./tweets.json')"
   ]
  },
  {
   "cell_type": "code",
   "execution_count": null,
   "metadata": {
    "scrolled": true
   },
   "outputs": [],
   "source": [
    "df.printSchema()"
   ]
  },
  {
   "cell_type": "code",
   "execution_count": null,
   "metadata": {},
   "outputs": [],
   "source": [
    "df.show()"
   ]
  },
  {
   "cell_type": "code",
   "execution_count": null,
   "metadata": {},
   "outputs": [],
   "source": [
    "df.select('geo').show()"
   ]
  },
  {
   "cell_type": "code",
   "execution_count": null,
   "metadata": {},
   "outputs": [],
   "source": [
    "df.select('coordinates').show()"
   ]
  },
  {
   "cell_type": "markdown",
   "metadata": {
    "collapsed": true
   },
   "source": [
    "### geo vs coordinate\n",
    "\n",
    "\n",
    "![campo coordinate en twitter](./imgs/campo_coordinates.png \"Twitter Coordinate\")\n",
    "\n",
    "![campo geo en twitter](./imgs/campo_geo.png \"Twitter Geo\")\n",
    "--- [Introduction to tweet JSON. In Twitter Documentation. Recuperado: 20:45, 2018, Mayo 1](https://developer.twitter.com/en/docs/tweets/data-dictionary/overview/tweet-object)\n"
   ]
  },
  {
   "cell_type": "code",
   "execution_count": null,
   "metadata": {},
   "outputs": [],
   "source": [
    "df.select('geo').where('geo is not null').count()"
   ]
  },
  {
   "cell_type": "code",
   "execution_count": null,
   "metadata": {},
   "outputs": [],
   "source": [
    "df.select('geo').where('geo is null').count()"
   ]
  },
  {
   "cell_type": "code",
   "execution_count": null,
   "metadata": {},
   "outputs": [],
   "source": [
    "df.select('geo').where('coordinates is not null').count()"
   ]
  },
  {
   "cell_type": "code",
   "execution_count": null,
   "metadata": {},
   "outputs": [],
   "source": [
    "df.select('geo').where('coordinates is null').count()"
   ]
  },
  {
   "cell_type": "code",
   "execution_count": null,
   "metadata": {},
   "outputs": [],
   "source": [
    "df.select('id','geo','coordinates').where('coordinates is not null').limit(1).show()"
   ]
  },
  {
   "cell_type": "code",
   "execution_count": null,
   "metadata": {},
   "outputs": [],
   "source": [
    "df.select('id','geo','coordinates') \\\n",
    "    .where('coordinates is not null') \\\n",
    "    .printSchema()"
   ]
  },
  {
   "cell_type": "code",
   "execution_count": null,
   "metadata": {
    "collapsed": true
   },
   "outputs": [],
   "source": [
    "from pyspark.sql.functions import explode, col"
   ]
  },
  {
   "cell_type": "code",
   "execution_count": null,
   "metadata": {},
   "outputs": [],
   "source": [
    "df.select('id','geo.coordinates') \\\n",
    "    .where('coordinates is not null') \\\n",
    "    .limit(1).show(truncate=False)"
   ]
  },
  {
   "cell_type": "code",
   "execution_count": null,
   "metadata": {},
   "outputs": [],
   "source": [
    "df.select(\n",
    "        'id',\n",
    "        col('geo.coordinates').alias('geo_coordinates'),\n",
    "        col('coordinates.coordinates').alias('coordinates_coordinates')\n",
    "    ) \\\n",
    "    .where('coordinates is not null') \\\n",
    "    .limit(1).show(truncate=False)"
   ]
  },
  {
   "cell_type": "code",
   "execution_count": null,
   "metadata": {},
   "outputs": [],
   "source": [
    "df.select(\n",
    "        'id',\n",
    "        explode(col('geo.coordinates')).alias('geo_coordinates'),\n",
    "        col('coordinates.coordinates').alias('coordinates_coordinates')\n",
    "    ) \\\n",
    "    .where('coordinates is not null') \\\n",
    "    .limit(2).show(truncate=False)"
   ]
  },
  {
   "cell_type": "code",
   "execution_count": null,
   "metadata": {},
   "outputs": [],
   "source": [
    "df.select(\n",
    "        'id',\n",
    "        explode(col('geo.coordinates')).alias('geo_coordinates'),\n",
    "        col('coordinates.coordinates').alias('coordinates_coordinates')\n",
    "    ) \\\n",
    "    .where('coordinates is not null') \\\n",
    "    .select(\n",
    "        \"id\",\n",
    "        \"geo_coordinates\",\n",
    "        explode(col('coordinates_coordinates'))\n",
    "    ).show(truncate=False)"
   ]
  },
  {
   "cell_type": "code",
   "execution_count": null,
   "metadata": {},
   "outputs": [],
   "source": [
    "df.select(\n",
    "        'id',\n",
    "        explode(col('geo.coordinates')).alias('geo_coordinates'),\n",
    "        col('coordinates.coordinates').alias('coordinates_coordinates')\n",
    "    ) \\\n",
    "    .where('coordinates is not null') \\\n",
    "    .select(\n",
    "        \"id\",\n",
    "        \"geo_coordinates\",\n",
    "        explode(col('coordinates_coordinates'))\n",
    "    ).count()"
   ]
  },
  {
   "cell_type": "code",
   "execution_count": null,
   "metadata": {},
   "outputs": [],
   "source": [
    "df.select(\n",
    "        'id',\n",
    "        col('geo.coordinates').alias('geo_coordinates'),\n",
    "        col('coordinates.coordinates').alias('coordinates_coordinates')\n",
    "    ) \\\n",
    "    .where('coordinates is not null') \\\n",
    "    .count()"
   ]
  },
  {
   "cell_type": "code",
   "execution_count": null,
   "metadata": {},
   "outputs": [],
   "source": [
    "8565*2*2"
   ]
  },
  {
   "cell_type": "markdown",
   "metadata": {},
   "source": [
    "<h3>Estado inicial:</h3>\n",
    "\n",
    "|id                |geo_coordinates|coordinates_coordinates         |\n",
    "|------------------|---------------|------------|\n",
    "|994365883396116481|[20.850748,-86.87462189]|[-86.87462189,20.850748]|\n",
    "\n",
    "\n",
    "<h3>Se transpone el vector de la primer columna. El segundo se mantiene constante:</h3>\n",
    "\n",
    "|id                |geo_coordinates|coordinates_coordinates         |\n",
    "|------------------|---------------|------------|\n",
    "|994365883396116481|20.850748      |[-86.87462189,20.850748]|\n",
    "|994365883396116481|-86.87462189   |[-86.87462189,20.850748]|\n",
    "\n",
    "\n",
    "<h3>Se transpone el segundo vector:</h3>\n",
    "\n",
    "|id                |geo_coordinates|col         |\n",
    "|------------------|---------------|------------|\n",
    "|994365883396116481|20.850748      |-86.87462189|\n",
    "|994365883396116481|20.850748      |20.850748   |\n",
    "|994365883396116481|-86.87462189   |-86.87462189|\n",
    "|994365883396116481|-86.87462189   |20.850748   |"
   ]
  },
  {
   "cell_type": "code",
   "execution_count": null,
   "metadata": {},
   "outputs": [],
   "source": [
    "df.select(\n",
    "        'id',\n",
    "        col('geo.coordinates').alias('geo_coordinates')\n",
    "    ) \\\n",
    "    .where('coordinates is not null') \\\n",
    "    .show()"
   ]
  },
  {
   "cell_type": "code",
   "execution_count": null,
   "metadata": {},
   "outputs": [],
   "source": [
    "df.select(\n",
    "        'id',\n",
    "        col('geo.coordinates').alias('geo_coordinates')\n",
    "    ) \\\n",
    "    .where('coordinates is not null') \\\n",
    "    .select(\n",
    "        \"id\",\n",
    "        col('geo_coordinates').getItem(0),\n",
    "        col('geo_coordinates').getItem(1)\n",
    "    ).show()"
   ]
  },
  {
   "cell_type": "code",
   "execution_count": null,
   "metadata": {},
   "outputs": [],
   "source": [
    "df.select(\n",
    "        'id',\n",
    "        col('geo.coordinates').alias('geo_coordinates')\n",
    "    ) \\\n",
    "    .where('coordinates is not null') \\\n",
    "    .select(\n",
    "        \"id\",\n",
    "        col('geo_coordinates').getItem(0).alias('geo_coordinate_lat'),\n",
    "        col('geo_coordinates').getItem(1).alias('geo_coordinate_long')\n",
    "    ).show()"
   ]
  },
  {
   "cell_type": "code",
   "execution_count": null,
   "metadata": {
    "collapsed": true
   },
   "outputs": [],
   "source": [
    "df.select(\n",
    "        'id',\n",
    "        col('geo.coordinates').alias('geo_coordinates')\n",
    "    ) \\\n",
    "    .where('coordinates is not null') \\\n",
    "    .select(\n",
    "        \"id\",\n",
    "        col('geo_coordinates').getItem(0).alias('geo_coordinate_lat'),\n",
    "        col('geo_coordinates').getItem(1).alias('geo_coordinate_long')\n",
    "    ).write.mode('overwrite').csv(\n",
    "        \"./coordenadas_twitter\",\n",
    "        sep=\"|\",\n",
    "        header=True)"
   ]
  },
  {
   "cell_type": "code",
   "execution_count": null,
   "metadata": {
    "collapsed": true
   },
   "outputs": [],
   "source": [
    "df.select(\n",
    "        'id',\n",
    "        col('geo.coordinates').alias('geo_coordinates')\n",
    "    ) \\\n",
    "    .where('coordinates is not null') \\\n",
    "    .select(\n",
    "        \"id\",\n",
    "        col('geo_coordinates').getItem(0).alias('geo_coordinate_lat'),\n",
    "        col('geo_coordinates').getItem(1).alias('geo_coordinate_long')\n",
    "    ).coalesce(1).write.mode('overwrite').csv(\n",
    "        \"./coordenadas_twitter_en_uno\",\n",
    "        sep=\"|\",\n",
    "        header=True)"
   ]
  },
  {
   "cell_type": "markdown",
   "metadata": {},
   "source": [
    "## Formatos columnares"
   ]
  },
  {
   "cell_type": "code",
   "execution_count": null,
   "metadata": {},
   "outputs": [],
   "source": [
    "! ls -lh tweets.json"
   ]
  },
  {
   "cell_type": "code",
   "execution_count": null,
   "metadata": {
    "collapsed": true
   },
   "outputs": [],
   "source": [
    "df.write.mode('overwrite').parquet(\"tweets_json_parquet\")"
   ]
  },
  {
   "cell_type": "code",
   "execution_count": null,
   "metadata": {},
   "outputs": [],
   "source": [
    "! du -h tweets_json_parquet"
   ]
  },
  {
   "cell_type": "code",
   "execution_count": null,
   "metadata": {
    "collapsed": true
   },
   "outputs": [],
   "source": [
    "df = spark.read.parquet('tweets_json_parquet')"
   ]
  },
  {
   "cell_type": "code",
   "execution_count": null,
   "metadata": {},
   "outputs": [],
   "source": [
    "df.count()"
   ]
  },
  {
   "cell_type": "code",
   "execution_count": null,
   "metadata": {},
   "outputs": [],
   "source": [
    "df.select(\n",
    "        'id',\n",
    "        col('geo.coordinates').alias('geo_coordinates')\n",
    "    ) \\\n",
    "    .where('coordinates is not null') \\\n",
    "    .select(\n",
    "        \"id\",\n",
    "        col('geo_coordinates').getItem(0).alias('geo_coordinate_lat'),\n",
    "        col('geo_coordinates').getItem(1).alias('geo_coordinate_long')\n",
    "    ).show()"
   ]
  },
  {
   "cell_type": "code",
   "execution_count": null,
   "metadata": {
    "collapsed": true
   },
   "outputs": [],
   "source": [
    "# Podemos registrar la tabla para usar comandos en formato SQL\n",
    "df.registerTempTable('tweets')"
   ]
  },
  {
   "cell_type": "code",
   "execution_count": null,
   "metadata": {},
   "outputs": [],
   "source": [
    "spark.sql(\"describe tweets\").show()"
   ]
  },
  {
   "cell_type": "code",
   "execution_count": null,
   "metadata": {},
   "outputs": [],
   "source": [
    "spark.sql(\"select id,favorite_count \" \n",
    "          \"from tweets \"\n",
    "         \"where favorite_count > 0 \").show()"
   ]
  },
  {
   "cell_type": "code",
   "execution_count": null,
   "metadata": {},
   "outputs": [],
   "source": [
    "spark.sql(\"select id,is_quote_status \" \n",
    "          \"from tweets \"\n",
    "         \"where is_quote_status=1 \").show()"
   ]
  },
  {
   "cell_type": "code",
   "execution_count": null,
   "metadata": {},
   "outputs": [],
   "source": [
    "spark.sql(\"select is_quote_status,count(*) \" \n",
    "          \"from tweets \"\n",
    "         \"group by is_quote_status\").show()"
   ]
  },
  {
   "cell_type": "code",
   "execution_count": null,
   "metadata": {},
   "outputs": [],
   "source": [
    "spark.sql(\"select id,count(*) \" \n",
    "          \"from tweets \"\n",
    "         \"group by id \"\n",
    "         \"having count(*)>1\").show()"
   ]
  },
  {
   "cell_type": "code",
   "execution_count": null,
   "metadata": {},
   "outputs": [],
   "source": [
    "spark.sql(\"select id,count(*) \" \n",
    "          \"from tweets \"\n",
    "         \"group by id \"\n",
    "         \"having count(*)>1\").count()"
   ]
  },
  {
   "cell_type": "code",
   "execution_count": null,
   "metadata": {},
   "outputs": [],
   "source": [
    "spark.sql(\"describe tweets\").show()"
   ]
  },
  {
   "cell_type": "code",
   "execution_count": null,
   "metadata": {},
   "outputs": [],
   "source": [
    "spark.sql(\"select entities from tweets\").printSchema()"
   ]
  },
  {
   "cell_type": "code",
   "execution_count": null,
   "metadata": {},
   "outputs": [],
   "source": [
    "spark.sql(\"select entities.user_mentions from tweets\").printSchema()"
   ]
  },
  {
   "cell_type": "code",
   "execution_count": null,
   "metadata": {},
   "outputs": [],
   "source": [
    "spark.sql(\"select entities.user_mentions from tweets\").show()"
   ]
  },
  {
   "cell_type": "code",
   "execution_count": null,
   "metadata": {
    "collapsed": true
   },
   "outputs": [],
   "source": [
    "from pyspark.sql.functions import size"
   ]
  },
  {
   "cell_type": "code",
   "execution_count": null,
   "metadata": {},
   "outputs": [],
   "source": [
    "spark.sql(\"select size(entities.user_mentions) from tweets\").show()"
   ]
  },
  {
   "cell_type": "code",
   "execution_count": null,
   "metadata": {},
   "outputs": [],
   "source": [
    "spark.sql(\"select size(entities.user_mentions),count(*) \"\n",
    "          \"from tweets \"\n",
    "          \"group by size(entities.user_mentions) \").show()"
   ]
  },
  {
   "cell_type": "code",
   "execution_count": null,
   "metadata": {},
   "outputs": [],
   "source": [
    "spark.sql(\"select * \"\n",
    "          \"from tweets \"\n",
    "          \"where size(entities.user_mentions) >= 10\").count()"
   ]
  },
  {
   "cell_type": "code",
   "execution_count": null,
   "metadata": {},
   "outputs": [],
   "source": [
    "spark.sql(\"select entities.user_mentions \"\n",
    "          \"from tweets \"\n",
    "          \"where size(entities.user_mentions) > 10\").show()"
   ]
  },
  {
   "cell_type": "code",
   "execution_count": null,
   "metadata": {},
   "outputs": [],
   "source": [
    "spark.sql(\"select entities.user_mentions \"\n",
    "          \"from tweets \"\n",
    "          \"where size(entities.user_mentions) > 10\").printSchema()"
   ]
  },
  {
   "cell_type": "code",
   "execution_count": null,
   "metadata": {},
   "outputs": [],
   "source": [
    "spark.sql(\"select entities.user_mentions[0] \"\n",
    "          \"from tweets \"\n",
    "          \"where size(entities.user_mentions) > 10\").printSchema()"
   ]
  },
  {
   "cell_type": "code",
   "execution_count": null,
   "metadata": {},
   "outputs": [],
   "source": [
    "spark.sql(\"select entities.user_mentions[0].id, \"\n",
    "          \"entities.user_mentions[0].name, \"\n",
    "          \"entities.user_mentions[0].screen_name \"\n",
    "          \"from tweets \"\n",
    "          \"where size(entities.user_mentions) > 10\").show()"
   ]
  },
  {
   "cell_type": "code",
   "execution_count": null,
   "metadata": {},
   "outputs": [],
   "source": [
    "spark.sql(\"select entities.user_mentions[0].id as id, \"\n",
    "          \"entities.user_mentions[0].name as name, \"\n",
    "          \"entities.user_mentions[0].screen_name as screen_name \"\n",
    "          \"from tweets \"\n",
    "          \"where size(entities.user_mentions) > 10\").show()"
   ]
  },
  {
   "cell_type": "code",
   "execution_count": null,
   "metadata": {},
   "outputs": [],
   "source": [
    "spark.sql(\"select id,explode(entities.user_mentions) as user_mentions \"\n",
    "          \"from tweets \").show()"
   ]
  },
  {
   "cell_type": "code",
   "execution_count": null,
   "metadata": {},
   "outputs": [],
   "source": [
    "spark.sql(\"select id,user_mentions.name,user_mentions.screen_name \"\n",
    "          \"from (select id,explode(entities.user_mentions) as user_mentions \"\n",
    "          \"from tweets) as tablon\").show()"
   ]
  },
  {
   "cell_type": "code",
   "execution_count": null,
   "metadata": {},
   "outputs": [],
   "source": [
    "spark.sql(\"select id,user_mentions.id as mentions_id,user_mentions.name,user_mentions.screen_name \"\n",
    "          \"from (select id,explode(entities.user_mentions) as user_mentions \"\n",
    "          \"from tweets) as tablon\").count()"
   ]
  },
  {
   "cell_type": "code",
   "execution_count": null,
   "metadata": {},
   "outputs": [],
   "source": [
    "spark.sql(\"select id,user_mentions.id as mentions_id,user_mentions.name,user_mentions.screen_name \"\n",
    "          \"from (select id,explode(entities.user_mentions) as user_mentions \"\n",
    "          \"from tweets) as tablon\").distinct().count()"
   ]
  },
  {
   "cell_type": "code",
   "execution_count": null,
   "metadata": {},
   "outputs": [],
   "source": [
    "df.count()"
   ]
  }
 ],
 "metadata": {
  "kernelspec": {
   "display_name": "Python 3",
   "language": "python",
   "name": "python3"
  },
  "language_info": {
   "codemirror_mode": {
    "name": "ipython",
    "version": 3
   },
   "file_extension": ".py",
   "mimetype": "text/x-python",
   "name": "python",
   "nbconvert_exporter": "python",
   "pygments_lexer": "ipython3",
   "version": "3.6.0"
  }
 },
 "nbformat": 4,
 "nbformat_minor": 2
}
