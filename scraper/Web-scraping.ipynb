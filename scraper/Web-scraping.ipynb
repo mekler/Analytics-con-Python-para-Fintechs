{
 "cells": [
  {
   "cell_type": "markdown",
   "metadata": {},
   "source": [
    "# Índice\n",
    "* [Scraping](#Web-scraping)\n",
    "* [Limpieza y Feature engineering](../limpieza/Limpieza-y-exploracion-de-datos-no-estructurados-con-spark.ipynb)\n",
    "* [Modelado](../modelado/Modelado-y-visualizaciones.ipynb)"
   ]
  },
  {
   "cell_type": "markdown",
   "metadata": {},
   "source": [
    "# Web scraping\n",
    "\n",
    "### Objetivo\n",
    "Banxico es una fuente oficial de datos que tiene muchas páginas web hechas con Flash con un bonito botón de \"Descargar a CSV\". **Nuestro ideal es incorporar fuentes de datos relevantes en forma automatizada.**\n",
    "\n",
    "\n",
    "¿Cuántas fuentes de datos serán incorporadas?\n",
    "Aquéllas que sean relevantes.\n",
    "\n",
    "Scraping es una de las herramientas más poderosas porque nos permite \"generar\" nuestras propias fuentes de datos. Por ejemplo,\n",
    "    * ¿Cuántas personas caminan/trabajan/viven en esta colonia?\n",
    "        Podemos usar fuentes públicas + algo de redes sociales\n",
    "    * ¿Mi restaurante es relevante?\n",
    "        Crucemos datos de Google Places + Twitter + Foursquare"
   ]
  },
  {
   "cell_type": "markdown",
   "metadata": {
    "collapsed": true
   },
   "source": [
    "Tomaremos como referencia los datos de **Tasas de interés con rendimiento liquidable al vencimiento y de depósitos a plazo fijo , en moneda nacional, de la banca**. Esta es una de esas fuentes de datos en una página en flash. Abrir el siguiente URL en un navegador Chrome (de preferencia).\n",
    "\n",
    "- Fuente:Banxico\n",
    "    - http://www.banxico.org.mx/portal_disf/tpa.html\n",
    "    \n",
    "    \n",
    "1. Jugar un poco con el sitio web mientras vemos el código HTML y las peticiones de red que se ejecutan ante una interacción con la página.\n",
    "\n",
    "2. Tomamos una de estas peticiones como CURL.\n",
    "    * Click derecho -> Inspeccionar.\n",
    "        Aparecerá una pantalla donde podremos ver el codigo HTML + consola de javascript + monitoreo de redes\n",
    "    * Click en la pestaña \"Networking\".\n",
    "    * Aparecerán todas las peticiones hechas hasta ese momento \n",
    "![Aglo va aqui](./imgs/inspect_curl.png)\n",
    "3. Probamos el resultado dentro de este notebook de la siguiente manera"
   ]
  },
  {
   "cell_type": "code",
   "execution_count": null,
   "metadata": {},
   "outputs": [],
   "source": [
    "# Hacemos una petición fuera de python, en bash con el signo de !\n",
    "! curl 'http://www.banxico.org.mx/portal_disf/Fechas_mensuales' \\\n",
    "    -H 'Accept-Language: en-US,en;q=0.9' \\\n",
    "    -H 'User-Agent: Mozilla/5.0 (X11; Linux x86_64) AppleWebKit/537.36 (KHTML, like Gecko) Chrome/66.0.3359.139 Safari/537.36' \\\n",
    "    -H 'Accept: */*' \\\n",
    "    -H 'Referer: http://www.banxico.org.mx/portal_disf/tpa.html' \\\n",
    "    -H 'X-Requested-With: ShockwaveFlash/29.0.0.171' \\\n",
    "    -H 'Connection: keep-alive'"
   ]
  },
  {
   "cell_type": "markdown",
   "metadata": {},
   "source": [
    "¿Qué sabemos del sitio?\n",
    "1. Todo sitio hecho con Flash, si tiene contenido dinámico, es probable que se generen peticiones a algún sitio web para actualizar su contenido.\n",
    "2. Podemos calcular el mínimo número de Headers y parámetros para que el sitio web responda algo coherente.\n",
    "3. Nos da información del tipo de server del cliente.\n",
    "4. Si podemos recrear interacciones de una página web con CURL, crear un scraper con puro código python es muy factible.\n",
    "\n",
    "\n",
    "Ahora que sabemos que el sitio de Banxico nos responde con CURL, usaremos Python para hacer las llamadas al sitio. Algunas herramientas son:\n",
    "    * requests\n",
    "        Peticiones HTTP\n",
    "    * selenium (existe en java también)\n",
    "        Podemos hacer interacción automatizadas a través de Chrome o Firefox\n",
    "    * Beautiful Soap (bs4)\n",
    "        Traductor de texto formateado con HTML a cosas que Python entiende\n",
    "    * Scrapy\n",
    "        Una araña tipo google que, dado un sitio web en concreto, lo puede recorrer en busca de información"
   ]
  },
  {
   "cell_type": "code",
   "execution_count": null,
   "metadata": {
    "collapsed": true
   },
   "outputs": [],
   "source": [
    "# Librería para peticiones\n",
    "import requests"
   ]
  },
  {
   "cell_type": "code",
   "execution_count": null,
   "metadata": {},
   "outputs": [],
   "source": [
    "# Hacemos petición a la url\n",
    "url = 'http://www.banxico.org.mx/portal_disf/Recupera_tpa'\n",
    "r = requests.get(url)\n",
    "r.text"
   ]
  },
  {
   "cell_type": "markdown",
   "metadata": {},
   "source": [
    "Una petición al URL directo regresa cosas que no tienen mucho sentido y no se parecen  a lo que vimos en Chrome. Entonces, agregaremos las variables que la petición original envía y veamos qué pasa."
   ]
  },
  {
   "cell_type": "code",
   "execution_count": null,
   "metadata": {},
   "outputs": [],
   "source": [
    "# Marca error. Hay que mandar variables para la búsqueda\n",
    "url = 'http://www.banxico.org.mx/portal_disf/Recupera_tpa'\n",
    "data = {\n",
    "    'BMXC_orden':\"T\",\n",
    "    'BMXC_plazo_ini':\"30\",\n",
    "    'BMXC_fecha_fin':\"2040/12/31\",\n",
    "    'BMXC_institucion':\"TODAS\",\n",
    "    'BMXC_semaforo':\"0\",\n",
    "    'BMXC_plazo_fin':\"30\",\n",
    "    'BMXC_monto_ini':\"10000 \",\n",
    "    'BMXC_periodicidad':\"H\",\n",
    "    'BMXC_monto_plazo':\"NA\",\n",
    "    'BMXC_monto_fin':\"10000 \",\n",
    "    'BMXC_fecha_ini':\"2040/12/31\"\n",
    "}\n",
    "r = requests.get(url, params=data)\n",
    "\n",
    "\n",
    "r.text"
   ]
  },
  {
   "cell_type": "markdown",
   "metadata": {},
   "source": [
    "Esto es parecido a lo que obtenemos de la página web. Por completez, agregamos algunos Headers a la petición para enmascarar nuestra interacción con el sitio.\n"
   ]
  },
  {
   "cell_type": "code",
   "execution_count": null,
   "metadata": {
    "collapsed": true
   },
   "outputs": [],
   "source": [
    "# Y si además queremos que no nos cachen\n",
    "url = 'http://www.banxico.org.mx/portal_disf/Recupera_tpa'\n",
    "data = {\n",
    "    'BMXC_orden':\"T\",\n",
    "    'BMXC_plazo_ini':\"30\",\n",
    "    'BMXC_fecha_fin':\"2040/12/31\",\n",
    "    'BMXC_institucion':\"TODAS\",\n",
    "    'BMXC_semaforo':\"0\",\n",
    "    'BMXC_plazo_fin':\"30\",\n",
    "    'BMXC_monto_ini':\"10000 \",\n",
    "    'BMXC_periodicidad':\"H\",\n",
    "    'BMXC_monto_plazo':\"NA\",\n",
    "    'BMXC_monto_fin':\"10000 \",\n",
    "    'BMXC_fecha_ini':\"2040/12/31\"\n",
    "}\n",
    "\n",
    "headers = {\n",
    "    'Origin': 'http://www.banxico.org.mx',\n",
    "    'Accept-Encoding': 'gzip, deflate',\n",
    "    'Accept-Language': 'en-US,en;q=0.9',\n",
    "    'User-Agent': 'Mozilla/5.0 (X11; Linux x86_64) AppleWebKit/537.36 (KHTML, like Gecko) Chrome/66.0.3359.139 Safari/537.36',\n",
    "    'Content-Type': 'application/x-www-form-urlencoded',\n",
    "    'Accept': '*/*',\n",
    "    'Referer': 'http://www.banxico.org.mx/portal_disf/tpa.swf',\n",
    "    'X-Requested-With': 'ShockwaveFlash/29.0.0.171',\n",
    "    'Connection': 'keep-alive'\n",
    "}"
   ]
  },
  {
   "cell_type": "code",
   "execution_count": null,
   "metadata": {
    "collapsed": true
   },
   "outputs": [],
   "source": [
    "r = requests.get(url,params=data,headers=headers)"
   ]
  },
  {
   "cell_type": "code",
   "execution_count": null,
   "metadata": {},
   "outputs": [],
   "source": [
    "r.text"
   ]
  },
  {
   "cell_type": "markdown",
   "metadata": {},
   "source": [
    "Podemos procesar XML en Python con ayuda de la biblioteca **xml.etree**."
   ]
  },
  {
   "cell_type": "code",
   "execution_count": null,
   "metadata": {
    "collapsed": true
   },
   "outputs": [],
   "source": [
    "import xml.etree.ElementTree as ET\n",
    "root = ET.fromstring(r.text)"
   ]
  },
  {
   "cell_type": "code",
   "execution_count": null,
   "metadata": {},
   "outputs": [],
   "source": [
    "root"
   ]
  },
  {
   "cell_type": "code",
   "execution_count": null,
   "metadata": {},
   "outputs": [],
   "source": [
    "root.tag"
   ]
  },
  {
   "cell_type": "code",
   "execution_count": null,
   "metadata": {},
   "outputs": [],
   "source": [
    "for child in root:\n",
    "    for x in child:\n",
    "        print(x.tag,x.text)"
   ]
  },
  {
   "cell_type": "markdown",
   "metadata": {},
   "source": [
    "La interacción es fea, torpe y realmente no nos gusta. Preferimos transformar el XML a JSON y procesar a partir de este punto. Instalaremos la biblioteca **xmltodict**.\n",
    "\n",
    "Podemos ver visualmente un XML y un JSON en la siguiente imagen.\n",
    "\n",
    "![XML vs JSON](./imgs/json-vs-xml.png)"
   ]
  },
  {
   "cell_type": "code",
   "execution_count": null,
   "metadata": {},
   "outputs": [],
   "source": [
    "!pip install xmltodict"
   ]
  },
  {
   "cell_type": "code",
   "execution_count": null,
   "metadata": {
    "collapsed": true
   },
   "outputs": [],
   "source": [
    "import xmltodict, json"
   ]
  },
  {
   "cell_type": "code",
   "execution_count": null,
   "metadata": {
    "collapsed": true
   },
   "outputs": [],
   "source": [
    "banxico = xmltodict.parse(r.text)"
   ]
  },
  {
   "cell_type": "code",
   "execution_count": null,
   "metadata": {},
   "outputs": [],
   "source": [
    "banxico"
   ]
  },
  {
   "cell_type": "code",
   "execution_count": null,
   "metadata": {},
   "outputs": [],
   "source": [
    "banxico['obj']"
   ]
  },
  {
   "cell_type": "code",
   "execution_count": null,
   "metadata": {},
   "outputs": [],
   "source": [
    "banxico['obj']['item']"
   ]
  },
  {
   "cell_type": "code",
   "execution_count": null,
   "metadata": {},
   "outputs": [],
   "source": [
    "for x in banxico['obj']['item']:\n",
    "    if \"col1\" in x:\n",
    "        print(x)"
   ]
  },
  {
   "cell_type": "code",
   "execution_count": null,
   "metadata": {},
   "outputs": [],
   "source": [
    "[x for x in banxico['obj']['item'] if \"col1\" in x]"
   ]
  },
  {
   "cell_type": "code",
   "execution_count": null,
   "metadata": {},
   "outputs": [],
   "source": [
    "len([x for x in banxico['obj']['item'] if \"col1\" in x])"
   ]
  },
  {
   "cell_type": "code",
   "execution_count": null,
   "metadata": {},
   "outputs": [],
   "source": [
    "len(banxico['obj']['item'])"
   ]
  },
  {
   "cell_type": "code",
   "execution_count": null,
   "metadata": {},
   "outputs": [],
   "source": [
    "banxico['obj']['registros']"
   ]
  },
  {
   "cell_type": "code",
   "execution_count": null,
   "metadata": {
    "collapsed": true
   },
   "outputs": [],
   "source": [
    "banxico_limpio = [x for x in banxico['obj']['item'] if \"col1\" in x]"
   ]
  },
  {
   "cell_type": "code",
   "execution_count": null,
   "metadata": {},
   "outputs": [],
   "source": [
    "import csv\n",
    "keys = banxico_limpio[0].keys()\n",
    "keys"
   ]
  },
  {
   "cell_type": "code",
   "execution_count": null,
   "metadata": {
    "collapsed": true
   },
   "outputs": [],
   "source": [
    "\n",
    "with open('banxico.csv', 'w') as output_file:\n",
    "    dict_writer = csv.DictWriter(output_file, keys)\n",
    "    dict_writer.writeheader()\n",
    "    dict_writer.writerows(banxico_limpio)"
   ]
  },
  {
   "cell_type": "code",
   "execution_count": null,
   "metadata": {},
   "outputs": [],
   "source": [
    "len(banxico_limpio)"
   ]
  },
  {
   "cell_type": "code",
   "execution_count": null,
   "metadata": {
    "collapsed": true
   },
   "outputs": [],
   "source": [
    "keys = {\n",
    "    'col1': 'institucion',\n",
    "    'col2': 'tasa_de_interes_bruta_en_porcentaje_anual',\n",
    "    'col3': 'rango_de_plazo_plazo_minimo',\n",
    "    'col4': 'rango_de_plazo_plazo_maximo',\n",
    "    'col5': 'tipo_de_instrumento',\n",
    "    'col6': 'rango_de_inversion_monto_minimo',\n",
    "    'col7': 'rango_de_inversion_monto_maximo',\n",
    "    'col8': 'tipo_de_tasa',\n",
    "    'col9': 'fecha_de_la_informacion'\n",
    "}"
   ]
  },
  {
   "cell_type": "code",
   "execution_count": null,
   "metadata": {},
   "outputs": [],
   "source": [
    "list(map(lambda x: dict((keys[key], value) for (key, value) in x.items()), banxico_limpio))"
   ]
  },
  {
   "cell_type": "code",
   "execution_count": null,
   "metadata": {},
   "outputs": [],
   "source": [
    "len(list(map(lambda x: dict((keys[key], value) for (key, value) in x.items()), banxico_limpio)))"
   ]
  },
  {
   "cell_type": "code",
   "execution_count": null,
   "metadata": {},
   "outputs": [],
   "source": [
    "len(banxico_limpio)"
   ]
  },
  {
   "cell_type": "code",
   "execution_count": null,
   "metadata": {
    "collapsed": true
   },
   "outputs": [],
   "source": [
    "keys_csv = [\n",
    "    'institucion',\n",
    "    'tasa_de_interes_bruta_en_porcentaje_anual',\n",
    "    'rango_de_plazo_plazo_minimo',\n",
    "    'rango_de_plazo_plazo_maximo',\n",
    "    'tipo_de_instrumento',\n",
    "    'rango_de_inversion_monto_minimo',\n",
    "    'rango_de_inversion_monto_maximo',\n",
    "    'tipo_de_tasa',\n",
    "    'fecha_de_la_informacion'\n",
    "    ]"
   ]
  },
  {
   "cell_type": "code",
   "execution_count": null,
   "metadata": {
    "collapsed": true
   },
   "outputs": [],
   "source": [
    "with open('banxico_headers.csv', 'w') as output_file:\n",
    "    dict_writer = csv.DictWriter(output_file, keys_csv)\n",
    "    dict_writer.writeheader()\n",
    "    dict_writer.writerows(\n",
    "        list(map(lambda x: dict((keys[key], value) for (key, value) in x.items()), banxico_limpio))\n",
    "    )"
   ]
  }
 ],
 "metadata": {
  "kernelspec": {
   "display_name": "Python 3",
   "language": "python",
   "name": "python3"
  },
  "language_info": {
   "codemirror_mode": {
    "name": "ipython",
    "version": 3
   },
   "file_extension": ".py",
   "mimetype": "text/x-python",
   "name": "python",
   "nbconvert_exporter": "python",
   "pygments_lexer": "ipython3",
   "version": "3.6.0"
  }
 },
 "nbformat": 4,
 "nbformat_minor": 2
}
