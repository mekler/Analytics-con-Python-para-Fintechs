{
 "cells": [
  {
   "cell_type": "markdown",
   "metadata": {},
   "source": [
    "# Python (3)\n",
    "Python no sólo es una herramienta para análisis estadístico. Se usa en:\n",
    "    - Páginas web.\n",
    "    - Hardware (Internet de las cosas)\n",
    "    - Análisis de datos\n",
    "\n",
    "Es portables, seguro, blah blah"
   ]
  },
  {
   "cell_type": "markdown",
   "metadata": {},
   "source": [
    "\n",
    "\n",
    "## Operaciones básicas en python.\n",
    "\n",
    "Existen dos versiones de python que son mantenidas en paralelo por la comunidad: **python2 y python3**\n",
    "\n",
    "Una de las grandes diferencias entre ellas es el soporte de codificación utf-8 en python3 que es nativo en comparación con python2. Esto se traduce en que si leo una base de datos, archivo o página web que tiene acentos o caracteres especiales como la ñ no tengo que hacer conversiones para manipular el dato.\n",
    "\n",
    "Existen dos versiones de python porque cuando se lanzó python3 éste no contaba con el soporte necesario para todas las bibliotecas importantes. Entonces, se continuó el desarrollo de ambas versiones en paralelo. Actualmente, todavía existen paquetes y bibliotecas que no existen en uno u otra versión."
   ]
  },
  {
   "cell_type": "code",
   "execution_count": null,
   "metadata": {},
   "outputs": [],
   "source": [
    "2^3 + 67 *4 - (45+15)"
   ]
  },
  {
   "cell_type": "markdown",
   "metadata": {},
   "source": [
    "Las operaciones aritméticas y preguntas lógicas, normalmente, mantienen la misma sintaxis entre todos los lenguajes de programación. "
   ]
  },
  {
   "cell_type": "code",
   "execution_count": null,
   "metadata": {},
   "outputs": [],
   "source": [
    "56 > 78 \n",
    "34 <= 34\n",
    "234 < 345\n",
    "\"hola\" == \"hola\"\n",
    "\"buu\" != \"yay\"\n",
    "# modulo\n",
    "10 % 4 "
   ]
  },
  {
   "cell_type": "markdown",
   "metadata": {},
   "source": [
    "**range** es una función nativa en python que genera un rango de valores. La sintáxis base es:\n",
    "    - range(inicio, fin, brinco)\n",
    "        La variable brinco debe ser un número entero.\n",
    "    - range(inicio, fin)\n",
    "    - range (fin)\n",
    "        Inicia desde 0\n",
    "        \n",
    "Si están en python2, existen dos funciones: **range y xrange**. range en python3 es una implementación de xrange en python2.\n",
    "\n",
    "La diferencia entre ambas es que range regresa una lista de valores y xrange un Objeto tipo xrange. Range calcula y guarda la secuencia completa en memoria. Si es una secuencia de 1 millón de valores, ocupará recursos en forma innecesaria. Xrange calcula los valores conforme son requeridos por el sistema."
   ]
  },
  {
   "cell_type": "code",
   "execution_count": null,
   "metadata": {},
   "outputs": [],
   "source": [
    "x = range(-1,12,2)\n",
    "print (x)"
   ]
  },
  {
   "cell_type": "code",
   "execution_count": null,
   "metadata": {},
   "outputs": [],
   "source": [
    "range(10)"
   ]
  },
  {
   "cell_type": "markdown",
   "metadata": {},
   "source": [
    "Intentemos definir una secuencia con brincos de .5"
   ]
  },
  {
   "cell_type": "code",
   "execution_count": null,
   "metadata": {},
   "outputs": [],
   "source": [
    "# definimos un contador inicial, valor final, brinco y lista\n",
    "i = -1\n",
    "step = .1\n",
    "f = 12\n",
    "lista=[]\n",
    "while i<12:\n",
    "    lista.append(float(\"{:.2f}\".format(i,2)))\n",
    "    #lista.append(round(i,2))\n",
    "    i+=.1\n",
    "\n",
    "print (lista)"
   ]
  },
  {
   "cell_type": "code",
   "execution_count": null,
   "metadata": {},
   "outputs": [],
   "source": [
    "i = 12.23123\n",
    "float(\"{:.3f}\".format(i))"
   ]
  },
  {
   "cell_type": "markdown",
   "metadata": {},
   "source": [
    "Otra forma de obtener el mismo resultado es definir una cadena donde vamos a darle formato a los números. El resultado de esto sería una cadena. Si quisieramos sumarle valores, por ejemplo, tenemos que castear (otro anglicismo *cast*) la cadena a punto flotante. \n",
    "\n",
    "La cadena (lo que va entre comillas) le indica a la función format cómo se insertarán los valores de las variables.\n",
    "    * {} \n",
    "    Le dice a format que en esa ubicación va una variable. Si no tiene un índice en las llaves, tomará una por una las variables que defina en format. \n",
    "    * :.2f \n",
    "    Los dos puntos permite darle formato al valor que la función inserte. En este caso, nos dice que después del punto se redondea a 2 decimales.\n",
    "    * float(), int(), str() \n",
    "    Son funciones para transformar (castear) de un tipo de valor a otro."
   ]
  },
  {
   "cell_type": "code",
   "execution_count": null,
   "metadata": {},
   "outputs": [],
   "source": [
    "#esto es el casteo\n",
    "float(\n",
    "    # las comillas dobles definen una cadena. las llaves le indican a la\n",
    "    # función format que en esa ubicación debe insertar el valor de \n",
    "    # una variable como cadena de texto\n",
    "    \"{:.2f}\".format(1234567890.59856469)\n",
    ")"
   ]
  },
  {
   "cell_type": "code",
   "execution_count": null,
   "metadata": {},
   "outputs": [],
   "source": [
    "\"{:,.2f}\".format(1234567890.598)"
   ]
  },
  {
   "cell_type": "code",
   "execution_count": null,
   "metadata": {},
   "outputs": [],
   "source": [
    "sum(lista)"
   ]
  },
  {
   "cell_type": "markdown",
   "metadata": {},
   "source": [
    "La sintaxis en python no es tan amigable como la de R en el manejo de vectores. Si quieres sumarle uno a cada uno de los elementos del vector, tienes que hacer un loop for."
   ]
  },
  {
   "cell_type": "code",
   "execution_count": null,
   "metadata": {},
   "outputs": [],
   "source": [
    "[round(k+1,2) for k in lista[:10]]"
   ]
  },
  {
   "cell_type": "markdown",
   "metadata": {},
   "source": [
    "Hay al menos dos formas de declarar un **loop**.\n",
    "    - La tradicional\n",
    "    for x in lista:\n",
    "        operacion\n",
    "    - La funcional\n",
    "    [operacion for x in lista]"
   ]
  },
  {
   "cell_type": "code",
   "execution_count": null,
   "metadata": {},
   "outputs": [],
   "source": [
    "sum([k+1 for k in lista])"
   ]
  },
  {
   "cell_type": "code",
   "execution_count": null,
   "metadata": {},
   "outputs": [],
   "source": [
    "del i"
   ]
  },
  {
   "cell_type": "code",
   "execution_count": null,
   "metadata": {
    "collapsed": true
   },
   "outputs": [],
   "source": [
    "i = 'hola'"
   ]
  },
  {
   "cell_type": "code",
   "execution_count": null,
   "metadata": {},
   "outputs": [],
   "source": [
    "print(i)"
   ]
  },
  {
   "cell_type": "markdown",
   "metadata": {},
   "source": [
    "## Librerías\n",
    "   \n",
    "Se puede descargar paquetes a través de github, el sistema operativo (apt-get install / yum install/ etc) o con la ayuda de la herramienta pip (Python Package Index).\n",
    "\n",
    "Normalmente, viene instalada con el sistema operativo."
   ]
  },
  {
   "cell_type": "code",
   "execution_count": null,
   "metadata": {},
   "outputs": [],
   "source": [
    "sudo apt-get install python-pip python3-pip"
   ]
  },
  {
   "cell_type": "markdown",
   "metadata": {},
   "source": [
    "#### Comandos\n",
    "    - Instalar\n",
    "        pip install algun_paquete\n",
    "        \n",
    "        * Instalar una versión específica\n",
    "            pip install algun_paquete>=1.2\n",
    "    - Desinstalar\n",
    "        pip uninstall algun_paquete\n",
    "    - Actualizar\n",
    "        pip install --upgrade algun_paquete\n",
    "        pip install -U algun_paquete\n",
    "        \n",
    "        En windows\n",
    "        pip install -M algun_paquete\n",
    "     - Listar paquetes instalados\n",
    "         pip list\n",
    "         pip freeze\n",
    "     - Buscar\n",
    "         pip search \"búsqueda\"\n",
    "    "
   ]
  },
  {
   "cell_type": "code",
   "execution_count": null,
   "metadata": {},
   "outputs": [],
   "source": [
    "!pip search \"sqlite3\"|awk '{if(s<10) print $0; s++;}'"
   ]
  },
  {
   "cell_type": "code",
   "execution_count": null,
   "metadata": {},
   "outputs": [],
   "source": [
    "!pip install DBWrapper"
   ]
  },
  {
   "cell_type": "markdown",
   "metadata": {},
   "source": [
    "pip list y freeze son muy parecidos. La diferencia es el formato de la salida. El primero sólo nos dice las versiones de los paquetes que tenemos instaladas ; el segundo tiene un formato que puede tomar pip install."
   ]
  },
  {
   "cell_type": "code",
   "execution_count": null,
   "metadata": {},
   "outputs": [],
   "source": [
    "!pip list |awk '{if(s<10) print $0; s++;}'"
   ]
  },
  {
   "cell_type": "code",
   "execution_count": null,
   "metadata": {
    "scrolled": true
   },
   "outputs": [],
   "source": [
    "!pip freeze |awk '{if(s<10) print $0; s++;}'"
   ]
  },
  {
   "cell_type": "code",
   "execution_count": null,
   "metadata": {},
   "outputs": [],
   "source": [
    "!pip install -r requirements.txt"
   ]
  },
  {
   "cell_type": "markdown",
   "metadata": {},
   "source": [
    "Github\n",
    "\n",
    "Git es un controlador de versiones muy popular para desarrollar software. Cuando se combina con GitHub se puede compartir el código con el resto de la comunidad. Las instrucciones de instalación depende de cada paquete. Lean el Readme.md en cada caso.\n",
    "\n",
    "Pueden instalar paquetes de github desde pip.\n",
    "\n",
    "pip install git+https://github.com/usuario/repo.git\n"
   ]
  },
  {
   "cell_type": "markdown",
   "metadata": {},
   "source": [
    "## Programación modular\n",
    "\n",
    "Durante un proyecto que implica programar, nos daremos cuenta que hay muchas funciones que podemos reutilizar. Por ejemplo, sumar dos variables no varia mas que en la entrada de los parámetros. \n",
    "\n",
    "El desarrollo de software es más eficiente si partimos nuestro proyecto en tantas pequeñas rutinas (módulos) como podamos siempre y cuando tengan sentido. Esto implica que tendremos que hacer funciones abstractas en lugar de particulares.\n",
    "\n",
    "Es una buena práctica tomar estas funciones y hacer un archivo que las agrupe.\n",
    "\n",
    "Las ventajas:\n",
    "\n",
    "    - Limpieza en el código y orden permiten mantener un proyecto.\n",
    "    - Trabajar se vuelve más sencillo porque un error no implica buscar el error en mil líneas de código sino en un archivo específico.\n",
    "    - Podemos reutilizar el código en diversos proeyctos.\n"
   ]
  },
  {
   "cell_type": "code",
   "execution_count": null,
   "metadata": {},
   "outputs": [],
   "source": [
    "from funciones import hola\n",
    "\n",
    "def nombre():\n",
    "    return \"luis\"\n",
    "\n",
    "print(hola.nombre())\n",
    "\n",
    "print(hola.apellido())\n",
    "\n",
    "print(nombre())"
   ]
  },
  {
   "cell_type": "markdown",
   "metadata": {},
   "source": [
    "Pasos para hacer un módulo:\n",
    "    1. crear una carpeta.\n",
    "    2. crear un archivo en blanco de nombre __init__.py dentro del folder.\n",
    "    3. agregar lo siguiente al principio del archivo que invoque el módulo.\n",
    "        \n",
    "        from carpeta import archivo\n",
    "    "
   ]
  },
  {
   "cell_type": "code",
   "execution_count": null,
   "metadata": {
    "scrolled": true
   },
   "outputs": [],
   "source": [
    "!tree ."
   ]
  },
  {
   "cell_type": "code",
   "execution_count": null,
   "metadata": {},
   "outputs": [],
   "source": [
    "!python modular.py"
   ]
  },
  {
   "cell_type": "markdown",
   "metadata": {},
   "source": [
    "## Documentación\n",
    "\n",
    "La documentación en Python no se accede tan fácil como la de R. Se tiene que leer los manuales en línea. Dado que existen dos versiones de Python, se mantienen dos manuales.\n",
    "\n",
    "[Python 3](https://docs.python.org/3/)\n",
    "\n",
    "[Python 2](https://docs.python.org/2/)\n",
    "\n",
    "\n",
    "La barra de búsqueda está en la parte superior derecha.\n",
    "\n",
    "\n",
    "![Barra de búsqueda](./imgs/python3_ayuda.png)\n",
    "\n",
    "La página busca tanto en funciones como en referencias en otras funciones a la palabra que buscan.\n",
    "\n",
    "![Resultados de la búsqueda](./imgs/python3_resultados.png)\n",
    "\n",
    "La documentación de Python inicia con ejemplos de uso de las funciones de ese paquete y después una descripción detallada de cada una. Con esto, podemos analizar los parámetros de entrada, las salidas y los errores que arrojan cada una de ellas. \n",
    "\n",
    "![Ejemplo de documentación](./imgs/python3_json.png)"
   ]
  },
  {
   "cell_type": "markdown",
   "metadata": {},
   "source": [
    "## Estructuras de datos\n",
    "\n",
    "Basado en https://docs.python.org/3/tutorial/datastructures.html\n",
    "### Listas\n",
    "\n",
    "Los índices de los elementos en una lista comienzan en 0.\n",
    "Operaciones:\n",
    "    - append(x)\n",
    "    Agrega un elemento al final de la lista."
   ]
  },
  {
   "cell_type": "code",
   "execution_count": null,
   "metadata": {},
   "outputs": [],
   "source": [
    "a = [1,2,3]\n",
    "print(a)\n",
    "a.append(1)\n",
    "print (a)"
   ]
  },
  {
   "cell_type": "markdown",
   "metadata": {},
   "source": [
    "    - extend(L)\n",
    "    Inserta al final de una lista los valores de otra."
   ]
  },
  {
   "cell_type": "code",
   "execution_count": null,
   "metadata": {},
   "outputs": [],
   "source": [
    "b = [9,98,5,0,13]\n",
    "print (b)\n",
    "a.extend(b)\n",
    "print (a)"
   ]
  },
  {
   "cell_type": "markdown",
   "metadata": {},
   "source": [
    "Esto es equivalente a"
   ]
  },
  {
   "cell_type": "code",
   "execution_count": null,
   "metadata": {},
   "outputs": [],
   "source": [
    "print(a[:2])\n",
    "a[len(a):]=b\n",
    "print(a)"
   ]
  },
  {
   "cell_type": "markdown",
   "metadata": {},
   "source": [
    "    - insert(i,x)\n",
    "    Inserta en la posición i el valor x"
   ]
  },
  {
   "cell_type": "code",
   "execution_count": null,
   "metadata": {},
   "outputs": [],
   "source": [
    "a.insert(5,\"hoaaaala\")\n",
    "print(a)"
   ]
  },
  {
   "cell_type": "code",
   "execution_count": null,
   "metadata": {},
   "outputs": [],
   "source": [
    "a.insert(2,\"mundo\")\n",
    "print(a)"
   ]
  },
  {
   "cell_type": "markdown",
   "metadata": {},
   "source": [
    "    - remove(x)\n",
    "    Elimina el primer elemento de la lista cuyo valor sea x"
   ]
  },
  {
   "cell_type": "code",
   "execution_count": null,
   "metadata": {},
   "outputs": [],
   "source": [
    "a.remove('hola')\n",
    "print(a)"
   ]
  },
  {
   "cell_type": "markdown",
   "metadata": {},
   "source": [
    "    - pop(i)\n",
    "    Remueve y elimina el elemento i de la lista. Si no se define la variable i, se elimina el último elemento."
   ]
  },
  {
   "cell_type": "code",
   "execution_count": null,
   "metadata": {},
   "outputs": [],
   "source": [
    "a.pop()"
   ]
  },
  {
   "cell_type": "code",
   "execution_count": null,
   "metadata": {},
   "outputs": [],
   "source": [
    "a.pop(2)"
   ]
  },
  {
   "cell_type": "code",
   "execution_count": null,
   "metadata": {},
   "outputs": [],
   "source": [
    "a"
   ]
  },
  {
   "cell_type": "markdown",
   "metadata": {},
   "source": [
    "    - clear()\n",
    "    Vacía la lista"
   ]
  },
  {
   "cell_type": "code",
   "execution_count": null,
   "metadata": {},
   "outputs": [],
   "source": [
    "a.clear()\n",
    "print(a)"
   ]
  },
  {
   "cell_type": "code",
   "execution_count": null,
   "metadata": {},
   "outputs": [],
   "source": [
    "a = [1, 2, 3, 1, 9, 98, 5, 0,'1']\n",
    "print(a)"
   ]
  },
  {
   "cell_type": "markdown",
   "metadata": {},
   "source": [
    "    - index(x)\n",
    "    Regresq el índice del primer elemento que tenga el valor x\n",
    "    "
   ]
  },
  {
   "cell_type": "code",
   "execution_count": null,
   "metadata": {},
   "outputs": [],
   "source": [
    "a.index(98)"
   ]
  },
  {
   "cell_type": "markdown",
   "metadata": {},
   "source": [
    "    - count(x)\n",
    "    Cuenta el número de apariciones del elemento x en la lista"
   ]
  },
  {
   "cell_type": "code",
   "execution_count": null,
   "metadata": {},
   "outputs": [],
   "source": [
    "a.count(1)"
   ]
  },
  {
   "cell_type": "markdown",
   "metadata": {},
   "source": [
    "Suena obvio....pero los enteros no son cadenas. 1 es diferente de '1'"
   ]
  },
  {
   "cell_type": "code",
   "execution_count": null,
   "metadata": {},
   "outputs": [],
   "source": [
    "a.count('1')"
   ]
  },
  {
   "cell_type": "code",
   "execution_count": null,
   "metadata": {},
   "outputs": [],
   "source": [
    "a = [1,2,3]\n",
    "b = [4,5,6]\n",
    "print(a,b)"
   ]
  },
  {
   "cell_type": "code",
   "execution_count": null,
   "metadata": {},
   "outputs": [],
   "source": [
    "a+b"
   ]
  },
  {
   "cell_type": "markdown",
   "metadata": {},
   "source": [
    "Las listas son muy versátiles. Se pueden utilizar como colas, pilas, matrices, etc.\n",
    "\n",
    "Si cargamos en memoria listas o elementos muy muy grandes, es una buena práctica liberar memoria para no saturar nuestra computadora.\n",
    "\n",
    "¿Cómo libero memoria en python?\n",
    "\n",
    "Python permite eliminar variables completas con el comando *del* pero también podemos eliminar un elemento de una lista o un diccionario (lo veremos más adelante)."
   ]
  },
  {
   "cell_type": "code",
   "execution_count": null,
   "metadata": {},
   "outputs": [],
   "source": [
    "del b\n",
    "print(b)"
   ]
  },
  {
   "cell_type": "code",
   "execution_count": null,
   "metadata": {},
   "outputs": [],
   "source": [
    "del a[1]\n",
    "print (a)"
   ]
  },
  {
   "cell_type": "markdown",
   "metadata": {},
   "source": [
    "Lo que me gustó más cuando conocí python es el manejo de las cadenas. Buscar, partir y aplicar operaciones es muy sencillo y es muy parecido al de las listas"
   ]
  },
  {
   "cell_type": "code",
   "execution_count": null,
   "metadata": {
    "collapsed": true
   },
   "outputs": [],
   "source": [
    "a = [123,456,789,'pato','pato','ganzo']"
   ]
  },
  {
   "cell_type": "code",
   "execution_count": null,
   "metadata": {},
   "outputs": [],
   "source": [
    "a[3]"
   ]
  },
  {
   "cell_type": "code",
   "execution_count": null,
   "metadata": {},
   "outputs": [],
   "source": [
    "a[:]"
   ]
  },
  {
   "cell_type": "code",
   "execution_count": null,
   "metadata": {},
   "outputs": [],
   "source": [
    "a[:3]"
   ]
  },
  {
   "cell_type": "code",
   "execution_count": null,
   "metadata": {},
   "outputs": [],
   "source": [
    "a[3:]"
   ]
  },
  {
   "cell_type": "code",
   "execution_count": null,
   "metadata": {},
   "outputs": [],
   "source": [
    "a[-1]"
   ]
  },
  {
   "cell_type": "code",
   "execution_count": null,
   "metadata": {},
   "outputs": [],
   "source": [
    "a[3:-1]"
   ]
  },
  {
   "cell_type": "code",
   "execution_count": null,
   "metadata": {},
   "outputs": [],
   "source": [
    "cadena = \"Esto es una cadena\"\n",
    "cadena[0]"
   ]
  },
  {
   "cell_type": "code",
   "execution_count": null,
   "metadata": {},
   "outputs": [],
   "source": [
    "cadena[4:-4]"
   ]
  },
  {
   "cell_type": "code",
   "execution_count": null,
   "metadata": {},
   "outputs": [],
   "source": [
    "cadena2 = \"Esto es la cadena2\"\n",
    "cadena + cadena2"
   ]
  },
  {
   "cell_type": "code",
   "execution_count": null,
   "metadata": {},
   "outputs": [],
   "source": [
    "\",\".join(cadena+cadena2)"
   ]
  },
  {
   "cell_type": "markdown",
   "metadata": {},
   "source": [
    "### Tuplas y secuencias\n",
    "\n",
    "Una tupla son valores separados por comas."
   ]
  },
  {
   "cell_type": "code",
   "execution_count": null,
   "metadata": {},
   "outputs": [],
   "source": [
    "tupla = 123,456,'pato'\n",
    "print(tupla)"
   ]
  },
  {
   "cell_type": "code",
   "execution_count": null,
   "metadata": {},
   "outputs": [],
   "source": [
    "tupla = 123,456,'pato'\n",
    "print(tupla)"
   ]
  },
  {
   "cell_type": "markdown",
   "metadata": {},
   "source": [
    "Las tuplas pueden estar anidadas (tupla adentro de tupla adentro de tupla...)"
   ]
  },
  {
   "cell_type": "code",
   "execution_count": null,
   "metadata": {},
   "outputs": [],
   "source": [
    "u = tupla,890\n",
    "print(u)"
   ]
  },
  {
   "cell_type": "code",
   "execution_count": null,
   "metadata": {},
   "outputs": [],
   "source": [
    "u,tupla,'algo'"
   ]
  },
  {
   "cell_type": "markdown",
   "metadata": {},
   "source": [
    "Los valores de las tuplas son inmutables. Una vez definidos no se puede modificar su valor.\n",
    "\n",
    "Esta estructura de datos es importante cuando lleguemos en 3 meses a spark."
   ]
  },
  {
   "cell_type": "code",
   "execution_count": null,
   "metadata": {},
   "outputs": [],
   "source": [
    "tupla[0] = '099'"
   ]
  },
  {
   "cell_type": "code",
   "execution_count": null,
   "metadata": {},
   "outputs": [],
   "source": [
    "vacia = ()\n",
    "print(vacia)\n",
    "\n",
    "un_elemento=('algo',)\n",
    "print(un_elemento, type(un_elemento))\n",
    "\n",
    "un_elemento=('algo')\n",
    "print(un_elemento,type(un_elemento))"
   ]
  },
  {
   "cell_type": "markdown",
   "metadata": {},
   "source": [
    "Podemos \"desempacar secuencias\" de tuplas a tantas variables como valores tiene."
   ]
  },
  {
   "cell_type": "code",
   "execution_count": null,
   "metadata": {},
   "outputs": [],
   "source": [
    "num1,num2,animal = tupla\n",
    "print(num1,num2,animal)"
   ]
  },
  {
   "cell_type": "markdown",
   "metadata": {},
   "source": [
    "### Sets\n",
    "\n",
    "Es una collección sin orden ni elementos duplicados. Acepta operaciones matemáticas como unión, intersección, diferencias y diferencias simétricas."
   ]
  },
  {
   "cell_type": "code",
   "execution_count": null,
   "metadata": {},
   "outputs": [],
   "source": [
    "zoologico = {'león','elefante','cocodrilo'}\n",
    "print(zoologico)"
   ]
  },
  {
   "cell_type": "markdown",
   "metadata": {},
   "source": [
    "Se utilizan para eliminar elementos repetidos."
   ]
  },
  {
   "cell_type": "code",
   "execution_count": null,
   "metadata": {},
   "outputs": [],
   "source": [
    "zoologico = {'león','elefante','cocodrilo','león'}\n",
    "print(zoologico)"
   ]
  },
  {
   "cell_type": "code",
   "execution_count": null,
   "metadata": {},
   "outputs": [],
   "source": [
    "a = set('zoologico')\n",
    "print(a)\n",
    "b = set('hipopotamo')\n",
    "print(b)"
   ]
  },
  {
   "cell_type": "code",
   "execution_count": null,
   "metadata": {},
   "outputs": [],
   "source": [
    "print (a-b)\n",
    "print (b-b)\n",
    "print(a&b) #letras en a y b\n",
    "print(a|b) # letras en a o b\n",
    "print(a^b) # letras en a o b pero no en ambos"
   ]
  },
  {
   "cell_type": "markdown",
   "metadata": {},
   "source": [
    "### Diccionarios\n",
    "\n",
    "Pueden conocerse como vectores asociativos, arreglos llave-valor o simplemente diccionarios en Python.\n",
    "\n",
    "La única regla para declararlos es que las llaves sean únicas. La colección no tiene orden."
   ]
  },
  {
   "cell_type": "code",
   "execution_count": null,
   "metadata": {},
   "outputs": [],
   "source": [
    "perro = {'raza':'pekinés', 'edad':4,'color':'negro'}\n",
    "print(perro)"
   ]
  },
  {
   "cell_type": "code",
   "execution_count": null,
   "metadata": {},
   "outputs": [],
   "source": [
    "perro = {'raza':'pekinés', 'edad':4,'color':'negro','color':'blanco'}\n",
    "print(perro)"
   ]
  },
  {
   "cell_type": "markdown",
   "metadata": {},
   "source": [
    "Puedes anidar estructuras dentro de un diccionario. Por ejemplo, utilizar arrays."
   ]
  },
  {
   "cell_type": "code",
   "execution_count": null,
   "metadata": {},
   "outputs": [],
   "source": [
    "perro = {\n",
    "    'raza':'pekinés', \n",
    "    'edad':4,\n",
    "    'color':'negro',\n",
    "    'peculiaridad':['jovial','pata corta','sin cola']\n",
    "}\n",
    "print(perro)"
   ]
  },
  {
   "cell_type": "code",
   "execution_count": null,
   "metadata": {},
   "outputs": [],
   "source": [
    "perro = {\n",
    "    'raza':'pekinés', \n",
    "    'edad':4,\n",
    "    'color':'negro',\n",
    "    'peculiaridad':['jovial','pata corta','sin cola'],\n",
    "    'vacunas':(1,2,3,4,)\n",
    "}\n",
    "print(perro)\n",
    "print(perro['raza'])\n",
    "print(perro['peculiaridad'][0])\n",
    "print(perro['vacunas'][3])"
   ]
  },
  {
   "cell_type": "markdown",
   "metadata": {},
   "source": [
    "#### Técnicas para de iterar"
   ]
  },
  {
   "cell_type": "code",
   "execution_count": null,
   "metadata": {
    "scrolled": true
   },
   "outputs": [],
   "source": [
    "questions = ['name', 'quest', 'favorite color']\n",
    "answers = ['lancelot', 'the holy grail', 'blue','ads']\n",
    "for q, a in zip(questions, answers):\n",
    "    print('What is your {0}?  It is {1}.'.format(q, a))"
   ]
  },
  {
   "cell_type": "code",
   "execution_count": null,
   "metadata": {},
   "outputs": [],
   "source": [
    "knights = {'gallahad': 'the pure', 'robin': 'the brave'}\n",
    "for k, v in knights.items():\n",
    "    print(k, v)"
   ]
  },
  {
   "cell_type": "code",
   "execution_count": null,
   "metadata": {},
   "outputs": [],
   "source": [
    "for i, v in enumerate(['tic', 'tac', 'toe']):\n",
    "    print(i, v)"
   ]
  },
  {
   "cell_type": "markdown",
   "metadata": {},
   "source": [
    "### Condiciones y loops\n",
    "\n",
    "    - if...else"
   ]
  },
  {
   "cell_type": "code",
   "execution_count": null,
   "metadata": {},
   "outputs": [],
   "source": [
    "a = ('manzana','platano','fresa')\n",
    "b = 'fresa'\n",
    "if b in a:\n",
    "    print('existe una fresa')"
   ]
  },
  {
   "cell_type": "code",
   "execution_count": null,
   "metadata": {},
   "outputs": [],
   "source": [
    "b = 'fresa'\n",
    "if b in a and b==a[1]:\n",
    "    print('existe una fresa')\n",
    "else:\n",
    "    print('esa fruta no la tenemos')"
   ]
  },
  {
   "cell_type": "markdown",
   "metadata": {},
   "source": [
    "    Podemo unir múltiples if..else\n",
    "    Recuerden que el indentado tiene que ser consistente. Si utilizan espacios, así debe ser para todo el código del mismo nivel. No podemos mezclar tabs con espacios.\n",
    "    \n",
    "    None en Python es lo equivalente a NULL en la mayoría de los lenguajes."
   ]
  },
  {
   "cell_type": "code",
   "execution_count": null,
   "metadata": {},
   "outputs": [],
   "source": [
    "c = None\n",
    "if a is not None:\n",
    "    if b in a and b==a[1]:\n",
    "        print('existe una fresa')\n",
    "    else:\n",
    "        print('esa fruta no la tenemos')\n",
    "else:\n",
    "    print('la variable no está definida.')\n",
    "    \n",
    "if c is not None:\n",
    "    if b in a and b==a[1]:\n",
    "        print('existe una fresa')\n",
    "    else:\n",
    "        print('esa fruta no la tenemos')\n",
    "else:\n",
    "    print('la variable no está definida.')"
   ]
  },
  {
   "cell_type": "markdown",
   "metadata": {},
   "source": [
    "    Si utilizo una variable que no está definida, python lanza un error y dejará de ejecutar el script. Las estructuras try....except (en otros lenguajes try...catch) capturan el error y nos permiten manejarlo sin que el script se detenga.\n",
    "    \n",
    "    Un caso de uso puede ser que ustedes lean un archivo con números pero algunos tengan formatos con comas y otros no. Realizar una operación como suma ocasionaría errores y no nos dejaría trabajar. \n",
    "    \n",
    "    Entonces, tienen dos opciones: limpiar los registros de entrada antes de que lleguen a Python o dejar que Python maneje la variedad."
   ]
  },
  {
   "cell_type": "code",
   "execution_count": null,
   "metadata": {},
   "outputs": [],
   "source": [
    "try: \n",
    "    if d is not None:\n",
    "        if b in a and b==a[1]:\n",
    "            print('existe una fresa')\n",
    "        else:\n",
    "            print('esa fruta no la tenemos')\n",
    "except:\n",
    "    print('la variable no está definida.')"
   ]
  },
  {
   "cell_type": "markdown",
   "metadata": {},
   "source": [
    "    Las condiciones se evalúan en orden de aparición. \n",
    "        A = B and B < C\n",
    "    Si A es distinto de B, nunca se evalúa la condición B<C\n",
    "    \n",
    "    "
   ]
  },
  {
   "cell_type": "markdown",
   "metadata": {
    "collapsed": true
   },
   "source": [
    "## Funciones\n",
    "<pre>\n",
    "def nombre(parametro1, parametro2):\n",
    "    return 'hola'\n",
    "</pre>"
   ]
  },
  {
   "cell_type": "code",
   "execution_count": null,
   "metadata": {
    "collapsed": true
   },
   "outputs": [],
   "source": [
    "def cuadrado(i):\n",
    "    try:\n",
    "        return i*i\n",
    "    except:\n",
    "        return 'nada'"
   ]
  },
  {
   "cell_type": "code",
   "execution_count": null,
   "metadata": {},
   "outputs": [],
   "source": [
    "cuadrado('9')"
   ]
  },
  {
   "cell_type": "markdown",
   "metadata": {},
   "source": [
    "Podemos regresar múltiples variables de una función."
   ]
  },
  {
   "cell_type": "code",
   "execution_count": null,
   "metadata": {
    "collapsed": true
   },
   "outputs": [],
   "source": [
    "def muchas_variables(x):\n",
    "    return x*x,x*x*x"
   ]
  },
  {
   "cell_type": "code",
   "execution_count": null,
   "metadata": {},
   "outputs": [],
   "source": [
    "cuadrado,cubo = muchas_variables(9)\n",
    "print(cuadrado, cubo)"
   ]
  },
  {
   "cell_type": "code",
   "execution_count": null,
   "metadata": {
    "collapsed": true
   },
   "outputs": [],
   "source": []
  }
 ],
 "metadata": {
  "kernelspec": {
   "display_name": "Python 3",
   "language": "python",
   "name": "python3"
  },
  "language_info": {
   "codemirror_mode": {
    "name": "ipython",
    "version": 3
   },
   "file_extension": ".py",
   "mimetype": "text/x-python",
   "name": "python",
   "nbconvert_exporter": "python",
   "pygments_lexer": "ipython3",
   "version": "3.6.1"
  }
 },
 "nbformat": 4,
 "nbformat_minor": 1
}
